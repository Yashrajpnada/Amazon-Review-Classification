{
 "cells": [
  {
   "cell_type": "markdown",
   "id": "08a58114",
   "metadata": {},
   "source": [
    "# Importing Libraries and Dataset"
   ]
  },
  {
   "cell_type": "code",
   "execution_count": 40,
   "id": "28f3f78d",
   "metadata": {},
   "outputs": [],
   "source": [
    "import numpy as np\n",
    "import pandas as pd\n",
    "import matplotlib.pyplot as plt "
   ]
  },
  {
   "cell_type": "code",
   "execution_count": 41,
   "id": "e6b8f3ac",
   "metadata": {},
   "outputs": [],
   "source": [
    "data_amazon = pd.read_csv(r'D:\\Machine learning\\Amazon\\amazon_cells_labelled.txt', sep ='\\t',header = None)\n"
   ]
  },
  {
   "cell_type": "code",
   "execution_count": 42,
   "id": "a9e4f6f0",
   "metadata": {},
   "outputs": [
    {
     "data": {
      "text/html": [
       "<div>\n",
       "<style scoped>\n",
       "    .dataframe tbody tr th:only-of-type {\n",
       "        vertical-align: middle;\n",
       "    }\n",
       "\n",
       "    .dataframe tbody tr th {\n",
       "        vertical-align: top;\n",
       "    }\n",
       "\n",
       "    .dataframe thead th {\n",
       "        text-align: right;\n",
       "    }\n",
       "</style>\n",
       "<table border=\"1\" class=\"dataframe\">\n",
       "  <thead>\n",
       "    <tr style=\"text-align: right;\">\n",
       "      <th></th>\n",
       "      <th>0</th>\n",
       "      <th>1</th>\n",
       "    </tr>\n",
       "  </thead>\n",
       "  <tbody>\n",
       "    <tr>\n",
       "      <th>0</th>\n",
       "      <td>So there is no way for me to plug it in here i...</td>\n",
       "      <td>0</td>\n",
       "    </tr>\n",
       "    <tr>\n",
       "      <th>1</th>\n",
       "      <td>Good case, Excellent value.</td>\n",
       "      <td>1</td>\n",
       "    </tr>\n",
       "    <tr>\n",
       "      <th>2</th>\n",
       "      <td>Great for the jawbone.</td>\n",
       "      <td>1</td>\n",
       "    </tr>\n",
       "    <tr>\n",
       "      <th>3</th>\n",
       "      <td>Tied to charger for conversations lasting more...</td>\n",
       "      <td>0</td>\n",
       "    </tr>\n",
       "    <tr>\n",
       "      <th>4</th>\n",
       "      <td>The mic is great.</td>\n",
       "      <td>1</td>\n",
       "    </tr>\n",
       "  </tbody>\n",
       "</table>\n",
       "</div>"
      ],
      "text/plain": [
       "                                                   0  1\n",
       "0  So there is no way for me to plug it in here i...  0\n",
       "1                        Good case, Excellent value.  1\n",
       "2                             Great for the jawbone.  1\n",
       "3  Tied to charger for conversations lasting more...  0\n",
       "4                                  The mic is great.  1"
      ]
     },
     "execution_count": 42,
     "metadata": {},
     "output_type": "execute_result"
    }
   ],
   "source": [
    "data_amazon.head()"
   ]
  },
  {
   "cell_type": "code",
   "execution_count": 43,
   "id": "fe7df22c",
   "metadata": {},
   "outputs": [
    {
     "data": {
      "text/plain": [
       "(1000, 2)"
      ]
     },
     "execution_count": 43,
     "metadata": {},
     "output_type": "execute_result"
    }
   ],
   "source": [
    "data_amazon.shape\n"
   ]
  },
  {
   "cell_type": "code",
   "execution_count": 44,
   "id": "c0050a2a",
   "metadata": {},
   "outputs": [],
   "source": [
    "column_name = ['Review','Sentiment']\n",
    "data_amazon.columns = column_name"
   ]
  },
  {
   "cell_type": "code",
   "execution_count": 45,
   "id": "c6984cbb",
   "metadata": {},
   "outputs": [
    {
     "data": {
      "text/html": [
       "<div>\n",
       "<style scoped>\n",
       "    .dataframe tbody tr th:only-of-type {\n",
       "        vertical-align: middle;\n",
       "    }\n",
       "\n",
       "    .dataframe tbody tr th {\n",
       "        vertical-align: top;\n",
       "    }\n",
       "\n",
       "    .dataframe thead th {\n",
       "        text-align: right;\n",
       "    }\n",
       "</style>\n",
       "<table border=\"1\" class=\"dataframe\">\n",
       "  <thead>\n",
       "    <tr style=\"text-align: right;\">\n",
       "      <th></th>\n",
       "      <th>Review</th>\n",
       "      <th>Sentiment</th>\n",
       "    </tr>\n",
       "  </thead>\n",
       "  <tbody>\n",
       "    <tr>\n",
       "      <th>0</th>\n",
       "      <td>So there is no way for me to plug it in here i...</td>\n",
       "      <td>0</td>\n",
       "    </tr>\n",
       "    <tr>\n",
       "      <th>1</th>\n",
       "      <td>Good case, Excellent value.</td>\n",
       "      <td>1</td>\n",
       "    </tr>\n",
       "    <tr>\n",
       "      <th>2</th>\n",
       "      <td>Great for the jawbone.</td>\n",
       "      <td>1</td>\n",
       "    </tr>\n",
       "    <tr>\n",
       "      <th>3</th>\n",
       "      <td>Tied to charger for conversations lasting more...</td>\n",
       "      <td>0</td>\n",
       "    </tr>\n",
       "    <tr>\n",
       "      <th>4</th>\n",
       "      <td>The mic is great.</td>\n",
       "      <td>1</td>\n",
       "    </tr>\n",
       "  </tbody>\n",
       "</table>\n",
       "</div>"
      ],
      "text/plain": [
       "                                              Review  Sentiment\n",
       "0  So there is no way for me to plug it in here i...          0\n",
       "1                        Good case, Excellent value.          1\n",
       "2                             Great for the jawbone.          1\n",
       "3  Tied to charger for conversations lasting more...          0\n",
       "4                                  The mic is great.          1"
      ]
     },
     "execution_count": 45,
     "metadata": {},
     "output_type": "execute_result"
    }
   ],
   "source": [
    "data_amazon.head()"
   ]
  },
  {
   "cell_type": "code",
   "execution_count": 46,
   "id": "40184da4",
   "metadata": {},
   "outputs": [
    {
     "data": {
      "text/plain": [
       "0    500\n",
       "1    500\n",
       "Name: Sentiment, dtype: int64"
      ]
     },
     "execution_count": 46,
     "metadata": {},
     "output_type": "execute_result"
    }
   ],
   "source": [
    "data_amazon['Sentiment'].value_counts()"
   ]
  },
  {
   "cell_type": "markdown",
   "id": "a87394f7",
   "metadata": {},
   "source": [
    "So it is evenly distributed which makes it easier for us to analyse"
   ]
  },
  {
   "cell_type": "code",
   "execution_count": 47,
   "id": "74289f8a",
   "metadata": {},
   "outputs": [
    {
     "data": {
      "text/plain": [
       "Review       0\n",
       "Sentiment    0\n",
       "dtype: int64"
      ]
     },
     "execution_count": 47,
     "metadata": {},
     "output_type": "execute_result"
    }
   ],
   "source": [
    "data_amazon.isnull().sum()"
   ]
  },
  {
   "cell_type": "markdown",
   "id": "06f68804",
   "metadata": {},
   "source": [
    "There is no missing records. Let's seggrigate our input and output dataset"
   ]
  },
  {
   "cell_type": "code",
   "execution_count": 48,
   "id": "c3e326db",
   "metadata": {},
   "outputs": [],
   "source": [
    "x = data_amazon['Review']\n",
    "y = data_amazon['Sentiment']"
   ]
  },
  {
   "cell_type": "markdown",
   "id": "659418d8",
   "metadata": {},
   "source": [
    "# Data Cleaning "
   ]
  },
  {
   "cell_type": "markdown",
   "id": "99b2fe1d",
   "metadata": {},
   "source": [
    "In the data cleaning, we are going to remove the stopwords and we will apply lemmatization "
   ]
  },
  {
   "cell_type": "code",
   "execution_count": 49,
   "id": "2e7d2f96",
   "metadata": {},
   "outputs": [],
   "source": [
    "import string"
   ]
  },
  {
   "cell_type": "code",
   "execution_count": 50,
   "id": "956afaf6",
   "metadata": {},
   "outputs": [],
   "source": [
    "punc = string.punctuation"
   ]
  },
  {
   "cell_type": "code",
   "execution_count": 51,
   "id": "e24f1d47",
   "metadata": {},
   "outputs": [
    {
     "data": {
      "text/plain": [
       "'!\"#$%&\\'()*+,-./:;<=>?@[\\\\]^_`{|}~'"
      ]
     },
     "execution_count": 51,
     "metadata": {},
     "output_type": "execute_result"
    }
   ],
   "source": [
    "punc"
   ]
  },
  {
   "cell_type": "code",
   "execution_count": 52,
   "id": "38d1d754",
   "metadata": {},
   "outputs": [],
   "source": [
    "import spacy"
   ]
  },
  {
   "cell_type": "code",
   "execution_count": 53,
   "id": "c135462b",
   "metadata": {},
   "outputs": [],
   "source": [
    "nlp = spacy.load(\"en_core_web_sm\")"
   ]
  },
  {
   "cell_type": "code",
   "execution_count": 54,
   "id": "321ac5c6",
   "metadata": {
    "scrolled": true
   },
   "outputs": [],
   "source": [
    "from spacy.lang.en.stop_words import STOP_WORDS"
   ]
  },
  {
   "cell_type": "code",
   "execution_count": 65,
   "id": "e96a906a",
   "metadata": {},
   "outputs": [],
   "source": [
    "stopword = list(STOP_WORDS)"
   ]
  },
  {
   "cell_type": "code",
   "execution_count": 66,
   "id": "3e676ef9",
   "metadata": {},
   "outputs": [
    {
     "data": {
      "text/plain": [
       "['on',\n",
       " 'against',\n",
       " 'herein',\n",
       " 'mine',\n",
       " 'sometimes',\n",
       " 'each',\n",
       " 'noone',\n",
       " 'will',\n",
       " 'never',\n",
       " 'eleven',\n",
       " 'behind',\n",
       " 'could',\n",
       " 'from',\n",
       " 'them',\n",
       " 'give',\n",
       " 'here',\n",
       " \"'m\",\n",
       " 'than',\n",
       " 'six',\n",
       " 'whence',\n",
       " 'too',\n",
       " 'whoever',\n",
       " 'yet',\n",
       " 'ourselves',\n",
       " 'keep',\n",
       " 'why',\n",
       " 'seeming',\n",
       " 'same',\n",
       " 'doing',\n",
       " 'so',\n",
       " 'as',\n",
       " 'go',\n",
       " 'namely',\n",
       " 'there',\n",
       " 'no',\n",
       " 'whole',\n",
       " 'several',\n",
       " 'what',\n",
       " 'get',\n",
       " 'most',\n",
       " 'already',\n",
       " 'very',\n",
       " \"'re\",\n",
       " 'seemed',\n",
       " 'sixty',\n",
       " '‘re',\n",
       " 'further',\n",
       " 'just',\n",
       " 'until',\n",
       " 'moreover',\n",
       " 'anything',\n",
       " 'least',\n",
       " 'another',\n",
       " \"'s\",\n",
       " 'show',\n",
       " 'other',\n",
       " 'thru',\n",
       " 'am',\n",
       " 'becoming',\n",
       " 'even',\n",
       " '‘m',\n",
       " 'your',\n",
       " 'elsewhere',\n",
       " 'next',\n",
       " '’d',\n",
       " 'have',\n",
       " '‘s',\n",
       " 'one',\n",
       " 'more',\n",
       " 'down',\n",
       " 'therein',\n",
       " 'or',\n",
       " 'indeed',\n",
       " 'been',\n",
       " 'whereas',\n",
       " 'used',\n",
       " 'it',\n",
       " 'were',\n",
       " 'a',\n",
       " 'beyond',\n",
       " 'still',\n",
       " 'while',\n",
       " 'hundred',\n",
       " 'sometime',\n",
       " 'now',\n",
       " 'might',\n",
       " 'n’t',\n",
       " 'without',\n",
       " 'neither',\n",
       " 'part',\n",
       " 'per',\n",
       " 'put',\n",
       " 'and',\n",
       " 'whereafter',\n",
       " 'who',\n",
       " '’ve',\n",
       " 'hereupon',\n",
       " 'these',\n",
       " 'four',\n",
       " 'across',\n",
       " 'under',\n",
       " 'nobody',\n",
       " 'perhaps',\n",
       " 'call',\n",
       " 'such',\n",
       " 'regarding',\n",
       " 'hereafter',\n",
       " 'become',\n",
       " 're',\n",
       " 'for',\n",
       " 'yourself',\n",
       " 'together',\n",
       " 'only',\n",
       " 'upon',\n",
       " 'always',\n",
       " \"'d\",\n",
       " 'hence',\n",
       " '‘d',\n",
       " '‘ve',\n",
       " 'but',\n",
       " 'whether',\n",
       " 'had',\n",
       " '’ll',\n",
       " 'yours',\n",
       " 'became',\n",
       " 'eight',\n",
       " 'anywhere',\n",
       " \"'ll\",\n",
       " 'enough',\n",
       " 'via',\n",
       " 'beforehand',\n",
       " 'then',\n",
       " 'himself',\n",
       " 'did',\n",
       " 'besides',\n",
       " 'everyone',\n",
       " 'at',\n",
       " 'although',\n",
       " 'quite',\n",
       " 'around',\n",
       " 'does',\n",
       " 'none',\n",
       " 'they',\n",
       " 'themselves',\n",
       " 'some',\n",
       " 'done',\n",
       " 'the',\n",
       " 'name',\n",
       " 'latterly',\n",
       " 'are',\n",
       " 'do',\n",
       " 'where',\n",
       " 'me',\n",
       " 'amongst',\n",
       " 'toward',\n",
       " 'because',\n",
       " 'therefore',\n",
       " 'side',\n",
       " 'nine',\n",
       " 'myself',\n",
       " 'hers',\n",
       " 'various',\n",
       " 'own',\n",
       " 'somehow',\n",
       " 'onto',\n",
       " 'nowhere',\n",
       " 'an',\n",
       " 'among',\n",
       " 'how',\n",
       " 'through',\n",
       " 'amount',\n",
       " 'his',\n",
       " 'that',\n",
       " '‘ll',\n",
       " 'also',\n",
       " 'towards',\n",
       " 'anyone',\n",
       " 'made',\n",
       " 'ours',\n",
       " 'two',\n",
       " 'due',\n",
       " 'someone',\n",
       " 'not',\n",
       " 'serious',\n",
       " 'back',\n",
       " 'yourselves',\n",
       " 'alone',\n",
       " 'well',\n",
       " 'with',\n",
       " 'beside',\n",
       " 'ca',\n",
       " 'which',\n",
       " 'cannot',\n",
       " 'everywhere',\n",
       " 'those',\n",
       " 'by',\n",
       " \"'ve\",\n",
       " 'see',\n",
       " 'all',\n",
       " 'many',\n",
       " 'between',\n",
       " 'throughout',\n",
       " 'whereupon',\n",
       " 'something',\n",
       " 'when',\n",
       " 'their',\n",
       " 'being',\n",
       " 'whose',\n",
       " 'us',\n",
       " 'he',\n",
       " 'else',\n",
       " 'she',\n",
       " 'once',\n",
       " 'third',\n",
       " 'bottom',\n",
       " 'its',\n",
       " 'has',\n",
       " 'in',\n",
       " 'both',\n",
       " 'however',\n",
       " 'somewhere',\n",
       " 'over',\n",
       " 'except',\n",
       " 'you',\n",
       " 'twenty',\n",
       " 'mostly',\n",
       " 'during',\n",
       " 'ten',\n",
       " 'thus',\n",
       " 'whom',\n",
       " 'we',\n",
       " 'unless',\n",
       " 'either',\n",
       " 'out',\n",
       " 'whereby',\n",
       " 'since',\n",
       " 'n‘t',\n",
       " 'below',\n",
       " 'much',\n",
       " 'often',\n",
       " 'off',\n",
       " 'our',\n",
       " 'latter',\n",
       " 'front',\n",
       " 'forty',\n",
       " '’s',\n",
       " 'about',\n",
       " 'wherein',\n",
       " 'full',\n",
       " 'is',\n",
       " 'hereby',\n",
       " 'my',\n",
       " 'can',\n",
       " 'make',\n",
       " 'twelve',\n",
       " 'again',\n",
       " 'thence',\n",
       " 'afterwards',\n",
       " 'within',\n",
       " 'anyway',\n",
       " 'thereby',\n",
       " 'whenever',\n",
       " '’re',\n",
       " 'if',\n",
       " 'everything',\n",
       " \"n't\",\n",
       " 'may',\n",
       " 'empty',\n",
       " 'former',\n",
       " 'every',\n",
       " 'seems',\n",
       " 'ever',\n",
       " 'was',\n",
       " 'nevertheless',\n",
       " 'of',\n",
       " 'whither',\n",
       " 'others',\n",
       " 'into',\n",
       " 'any',\n",
       " 'this',\n",
       " 'few',\n",
       " 'nor',\n",
       " 'thereafter',\n",
       " 'above',\n",
       " 'him',\n",
       " 'seem',\n",
       " 'thereupon',\n",
       " 'last',\n",
       " '’m',\n",
       " 'be',\n",
       " 'formerly',\n",
       " 'whatever',\n",
       " 'nothing',\n",
       " 'itself',\n",
       " 'take',\n",
       " 'meanwhile',\n",
       " 'move',\n",
       " 'becomes',\n",
       " 'her',\n",
       " 'herself',\n",
       " 'really',\n",
       " 'first',\n",
       " 'otherwise',\n",
       " 'anyhow',\n",
       " 'five',\n",
       " 'i',\n",
       " 'rather',\n",
       " 'to',\n",
       " 'top',\n",
       " 'say',\n",
       " 'please',\n",
       " 'three',\n",
       " 'would',\n",
       " 'fifteen',\n",
       " 'using',\n",
       " 'up',\n",
       " 'after',\n",
       " 'must',\n",
       " 'before',\n",
       " 'less',\n",
       " 'wherever',\n",
       " 'almost',\n",
       " 'fifty',\n",
       " 'should',\n",
       " 'along',\n",
       " 'though']"
      ]
     },
     "execution_count": 66,
     "metadata": {},
     "output_type": "execute_result"
    }
   ],
   "source": [
    "stopword"
   ]
  },
  {
   "cell_type": "markdown",
   "id": "f1f3b4cd",
   "metadata": {},
   "source": [
    "Create a function to clean data "
   ]
  },
  {
   "cell_type": "code",
   "execution_count": 75,
   "id": "9e3ab860",
   "metadata": {},
   "outputs": [],
   "source": [
    "def text_data_cleaning(sentence):\n",
    "    doc = nlp(sentence)\n",
    "    \n",
    "    \n",
    "    tokens = []\n",
    "    for token in doc:\n",
    "        if token.lemma != '-PRON-':\n",
    "            temp = token.lemma_.lower().strip()\n",
    "        else:\n",
    "            temp = token.lower_\n",
    "        tokens.append(temp)\n",
    "        \n",
    "    cleaned_tokens = []\n",
    "    for token in tokens:\n",
    "        if token not in stopword and token not in punc:\n",
    "            cleaned_tokens.append(token)\n",
    "    return cleaned_tokens"
   ]
  },
  {
   "cell_type": "code",
   "execution_count": 76,
   "id": "75d37c24",
   "metadata": {},
   "outputs": [
    {
     "data": {
      "text/plain": [
       "['hi', 'buudy']"
      ]
     },
     "execution_count": 76,
     "metadata": {},
     "output_type": "execute_result"
    }
   ],
   "source": [
    "text_data_cleaning('Hi buudy')"
   ]
  },
  {
   "cell_type": "markdown",
   "id": "942a8360",
   "metadata": {},
   "source": [
    "# Vectorization Feature Engineering "
   ]
  },
  {
   "cell_type": "code",
   "execution_count": 79,
   "id": "9fbc54a0",
   "metadata": {},
   "outputs": [],
   "source": [
    "from sklearn.svm import LinearSVC"
   ]
  },
  {
   "cell_type": "code",
   "execution_count": 80,
   "id": "b8d335fd",
   "metadata": {},
   "outputs": [],
   "source": [
    "from sklearn.feature_extraction.text import TfidfVectorizer"
   ]
  },
  {
   "cell_type": "code",
   "execution_count": 82,
   "id": "8c77e382",
   "metadata": {},
   "outputs": [],
   "source": [
    "from sklearn.pipeline import Pipeline"
   ]
  },
  {
   "cell_type": "code",
   "execution_count": 83,
   "id": "35ad0c1f",
   "metadata": {},
   "outputs": [],
   "source": [
    "tfidf = TfidfVectorizer(tokenizer = text_data_cleaning )"
   ]
  },
  {
   "cell_type": "code",
   "execution_count": 84,
   "id": "4dcb802b",
   "metadata": {},
   "outputs": [],
   "source": [
    "classifier = LinearSVC()"
   ]
  },
  {
   "cell_type": "markdown",
   "id": "80105a5f",
   "metadata": {},
   "source": [
    "# Training the model"
   ]
  },
  {
   "cell_type": "code",
   "execution_count": 87,
   "id": "77ebbfc4",
   "metadata": {},
   "outputs": [],
   "source": [
    "from sklearn.model_selection import train_test_split"
   ]
  },
  {
   "cell_type": "code",
   "execution_count": 89,
   "id": "a44fa44a",
   "metadata": {},
   "outputs": [],
   "source": [
    "x_train, x_test, y_train, y_test = train_test_split(x, y, test_size = 0.2, random_state = 0 )"
   ]
  },
  {
   "cell_type": "code",
   "execution_count": 90,
   "id": "0a6e9c7d",
   "metadata": {},
   "outputs": [
    {
     "data": {
      "text/plain": [
       "((800,), (200,))"
      ]
     },
     "execution_count": 90,
     "metadata": {},
     "output_type": "execute_result"
    }
   ],
   "source": [
    "x_train.shape, x_test.shape"
   ]
  },
  {
   "cell_type": "code",
   "execution_count": 91,
   "id": "ede90dfe",
   "metadata": {},
   "outputs": [
    {
     "data": {
      "text/plain": [
       "687    i would advise to not purchase this item it ne...\n",
       "500    The bose noise cancelling is amazing, which is...\n",
       "332                          The reception is excellent!\n",
       "979                                   Not enough volume.\n",
       "817       Gets a signal when other Verizon phones won't.\n",
       "Name: Review, dtype: object"
      ]
     },
     "execution_count": 91,
     "metadata": {},
     "output_type": "execute_result"
    }
   ],
   "source": [
    "x_train.head()"
   ]
  },
  {
   "cell_type": "code",
   "execution_count": 92,
   "id": "6270ffb0",
   "metadata": {},
   "outputs": [],
   "source": [
    "clf = Pipeline([('tfidf',tfidf), ('clf',classifier)])"
   ]
  },
  {
   "cell_type": "code",
   "execution_count": 93,
   "id": "6bdb9d0b",
   "metadata": {},
   "outputs": [
    {
     "data": {
      "text/plain": [
       "Pipeline(steps=[('tfidf',\n",
       "                 TfidfVectorizer(tokenizer=<function text_data_cleaning at 0x0000024A7846FAF0>)),\n",
       "                ('clf', LinearSVC())])"
      ]
     },
     "execution_count": 93,
     "metadata": {},
     "output_type": "execute_result"
    }
   ],
   "source": [
    "clf.fit(x_train,y_train)"
   ]
  },
  {
   "cell_type": "markdown",
   "id": "9507278a",
   "metadata": {},
   "source": [
    "# Predicting result"
   ]
  },
  {
   "cell_type": "code",
   "execution_count": 95,
   "id": "cbcb28ad",
   "metadata": {},
   "outputs": [],
   "source": [
    "from sklearn.metrics import accuracy_score, classification_report, confusion_matrix"
   ]
  },
  {
   "cell_type": "code",
   "execution_count": 96,
   "id": "a013b104",
   "metadata": {},
   "outputs": [],
   "source": [
    "y_pred = clf.predict(x_test)"
   ]
  },
  {
   "cell_type": "code",
   "execution_count": 97,
   "id": "ac879b8b",
   "metadata": {},
   "outputs": [
    {
     "data": {
      "text/plain": [
       "array([[75, 21],\n",
       "       [25, 79]], dtype=int64)"
      ]
     },
     "execution_count": 97,
     "metadata": {},
     "output_type": "execute_result"
    }
   ],
   "source": [
    "confusion_matrix(y_test,y_pred)"
   ]
  },
  {
   "cell_type": "code",
   "execution_count": 98,
   "id": "bdeefe1b",
   "metadata": {},
   "outputs": [
    {
     "data": {
      "text/plain": [
       "0.77"
      ]
     },
     "execution_count": 98,
     "metadata": {},
     "output_type": "execute_result"
    }
   ],
   "source": [
    "accuracy_score(y_test,y_pred)"
   ]
  },
  {
   "cell_type": "code",
   "execution_count": 99,
   "id": "6b8e39e4",
   "metadata": {},
   "outputs": [
    {
     "data": {
      "text/plain": [
       "array([1], dtype=int64)"
      ]
     },
     "execution_count": 99,
     "metadata": {},
     "output_type": "execute_result"
    }
   ],
   "source": [
    "clf.predict(['Wow, This is an Amazing product'])"
   ]
  },
  {
   "cell_type": "code",
   "execution_count": 100,
   "id": "0a39735b",
   "metadata": {},
   "outputs": [
    {
     "data": {
      "text/plain": [
       "array([0], dtype=int64)"
      ]
     },
     "execution_count": 100,
     "metadata": {},
     "output_type": "execute_result"
    }
   ],
   "source": [
    "clf.predict(['Worst product ever'])"
   ]
  }
 ],
 "metadata": {
  "kernelspec": {
   "display_name": "Python 3 (ipykernel)",
   "language": "python",
   "name": "python3"
  },
  "language_info": {
   "codemirror_mode": {
    "name": "ipython",
    "version": 3
   },
   "file_extension": ".py",
   "mimetype": "text/x-python",
   "name": "python",
   "nbconvert_exporter": "python",
   "pygments_lexer": "ipython3",
   "version": "3.9.12"
  }
 },
 "nbformat": 4,
 "nbformat_minor": 5
}
